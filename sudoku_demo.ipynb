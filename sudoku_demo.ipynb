{
 "cells": [
  {
   "cell_type": "markdown",
   "metadata": {},
   "source": [
    "## Setup"
   ]
  },
  {
   "cell_type": "markdown",
   "metadata": {},
   "source": [
    "### Imports"
   ]
  },
  {
   "cell_type": "code",
   "execution_count": 124,
   "metadata": {},
   "outputs": [],
   "source": [
    "import collections\n",
    "import math\n",
    "import random\n",
    "import statistics\n",
    "import time\n",
    "\n",
    "from IPython.display import clear_output\n",
    "import numpy as np"
   ]
  },
  {
   "cell_type": "markdown",
   "metadata": {},
   "source": [
    "### Helpers"
   ]
  },
  {
   "cell_type": "code",
   "execution_count": 125,
   "metadata": {},
   "outputs": [],
   "source": [
    "def random_solution(problem):\n",
    "    solution = problem.copy()\n",
    "    for block in range(9):\n",
    "        indices = block_indices(block)\n",
    "        block = problem[indices]\n",
    "        zeros = [i for i in indices if problem[i] == 0]\n",
    "        to_fill = [i for i in range(1, 10) if i not in block]\n",
    "        random.shuffle(to_fill)\n",
    "        for index, value in zip(zeros, to_fill):\n",
    "            solution[index] = value\n",
    "    return solution"
   ]
  },
  {
   "cell_type": "code",
   "execution_count": 126,
   "metadata": {},
   "outputs": [],
   "source": [
    "def print_sudoku(sudoku):\n",
    "    border = \"------+-------+------\"\n",
    "    # Find duplicate values\n",
    "    row_dups = [set() for i in range(9)]\n",
    "    col_dups = [set() for i in range(9)]\n",
    "    for i in range(9):\n",
    "        c = collections.Counter(sudoku[9*i + j] for j in range(9))\n",
    "        row_dups[i] = [k for k, v in c.items() if v > 1]\n",
    "    for j in range(9):\n",
    "        c = collections.Counter(sudoku[9*i + j] for i in range(9))\n",
    "        col_dups[j] = [k for k, v in c.items() if v > 1]\n",
    "    # Print sudoku\n",
    "    for i in range(9):\n",
    "        if i % 3 == 0:\n",
    "            print(border)\n",
    "        for j in range(9):\n",
    "            if j and j % 3 == 0:\n",
    "                print(\"| \", end=\"\")\n",
    "            v = sudoku[9*i + j]\n",
    "            mistake = v in row_dups[i] + col_dups[j]  \n",
    "            if fixed[9 * i + j]:\n",
    "                print(\"\\x1b[32m\", end=\"\")\n",
    "            elif mistake:\n",
    "                print(\"\\x1b[31m\", end=\"\")\n",
    "            print(v or \" \", end=\" \")\n",
    "            if mistake or fixed[9 * i + j]:\n",
    "                print(\"\\x1b[0m\", end=\"\")\n",
    "        print()\n",
    "    print(border)"
   ]
  },
  {
   "cell_type": "code",
   "execution_count": 127,
   "metadata": {},
   "outputs": [],
   "source": [
    "def get_index(row, col):\n",
    "    \"\"\"Convert row/colum numbers to index\"\"\"\n",
    "    return row*9+col"
   ]
  },
  {
   "cell_type": "code",
   "execution_count": 128,
   "metadata": {},
   "outputs": [],
   "source": [
    "def block_indices(block_num):\n",
    "    \"\"\"Return list of indices contained in a block\"\"\"\n",
    "    r, c = map(lambda x: x * 3, divmod(block_num, 3))\n",
    "    return [get_index(r+i, c+j) for i in range(3) for j in range(3)]"
   ]
  },
  {
   "cell_type": "markdown",
   "metadata": {},
   "source": [
    "### Create Problem"
   ]
  },
  {
   "cell_type": "code",
   "execution_count": 129,
   "metadata": {},
   "outputs": [],
   "source": [
    "_ = 0\n",
    "problem = np.array([\n",
    "    1, _, _,  _, _, 6,  3, _, 8,\n",
    "    _, _, 2,  3, _, _,  _, 9, _,\n",
    "    _, _, _,  _, _, _,  7, 1, 6,\n",
    "\n",
    "    7, _, 8,  9, 4, _,  _, _, 2,\n",
    "    _, _, 4,  _, _, _,  9, _, _,\n",
    "    9, _, _,  _, 2, 5,  1, _, 4,\n",
    "\n",
    "    6, 2, 9,  _, _, _,  _, _, _,\n",
    "    _, 4, _,  _, _, 7,  6, _, _,\n",
    "    5, _, 7,  6, _, _,  _, _, 3,\n",
    "])"
   ]
  },
  {
   "cell_type": "code",
   "execution_count": 130,
   "metadata": {},
   "outputs": [],
   "source": [
    "# Create binary mask showing which values are fixed\n",
    "fixed = problem != 0"
   ]
  },
  {
   "cell_type": "code",
   "execution_count": 131,
   "metadata": {
    "scrolled": true
   },
   "outputs": [
    {
     "name": "stdout",
     "output_type": "stream",
     "text": [
      "------+-------+------\n",
      "\u001b[32m1 \u001b[0m\u001b[31m  \u001b[0m\u001b[31m  \u001b[0m| \u001b[31m  \u001b[0m\u001b[31m  \u001b[0m\u001b[32m6 \u001b[0m| \u001b[32m3 \u001b[0m\u001b[31m  \u001b[0m\u001b[32m8 \u001b[0m\n",
      "\u001b[31m  \u001b[0m\u001b[31m  \u001b[0m\u001b[32m2 \u001b[0m| \u001b[32m3 \u001b[0m\u001b[31m  \u001b[0m\u001b[31m  \u001b[0m| \u001b[31m  \u001b[0m\u001b[32m9 \u001b[0m\u001b[31m  \u001b[0m\n",
      "\u001b[31m  \u001b[0m\u001b[31m  \u001b[0m\u001b[31m  \u001b[0m| \u001b[31m  \u001b[0m\u001b[31m  \u001b[0m\u001b[31m  \u001b[0m| \u001b[32m7 \u001b[0m\u001b[32m1 \u001b[0m\u001b[32m6 \u001b[0m\n",
      "------+-------+------\n",
      "\u001b[32m7 \u001b[0m\u001b[31m  \u001b[0m\u001b[32m8 \u001b[0m| \u001b[32m9 \u001b[0m\u001b[32m4 \u001b[0m\u001b[31m  \u001b[0m| \u001b[31m  \u001b[0m\u001b[31m  \u001b[0m\u001b[32m2 \u001b[0m\n",
      "\u001b[31m  \u001b[0m\u001b[31m  \u001b[0m\u001b[32m4 \u001b[0m| \u001b[31m  \u001b[0m\u001b[31m  \u001b[0m\u001b[31m  \u001b[0m| \u001b[32m9 \u001b[0m\u001b[31m  \u001b[0m\u001b[31m  \u001b[0m\n",
      "\u001b[32m9 \u001b[0m\u001b[31m  \u001b[0m\u001b[31m  \u001b[0m| \u001b[31m  \u001b[0m\u001b[32m2 \u001b[0m\u001b[32m5 \u001b[0m| \u001b[32m1 \u001b[0m\u001b[31m  \u001b[0m\u001b[32m4 \u001b[0m\n",
      "------+-------+------\n",
      "\u001b[32m6 \u001b[0m\u001b[32m2 \u001b[0m\u001b[32m9 \u001b[0m| \u001b[31m  \u001b[0m\u001b[31m  \u001b[0m\u001b[31m  \u001b[0m| \u001b[31m  \u001b[0m\u001b[31m  \u001b[0m\u001b[31m  \u001b[0m\n",
      "\u001b[31m  \u001b[0m\u001b[32m4 \u001b[0m\u001b[31m  \u001b[0m| \u001b[31m  \u001b[0m\u001b[31m  \u001b[0m\u001b[32m7 \u001b[0m| \u001b[32m6 \u001b[0m\u001b[31m  \u001b[0m\u001b[31m  \u001b[0m\n",
      "\u001b[32m5 \u001b[0m\u001b[31m  \u001b[0m\u001b[32m7 \u001b[0m| \u001b[32m6 \u001b[0m\u001b[31m  \u001b[0m\u001b[31m  \u001b[0m| \u001b[31m  \u001b[0m\u001b[31m  \u001b[0m\u001b[32m3 \u001b[0m\n",
      "------+-------+------\n"
     ]
    }
   ],
   "source": [
    "print_sudoku(problem)"
   ]
  },
  {
   "cell_type": "markdown",
   "metadata": {},
   "source": [
    "## Process Definition"
   ]
  },
  {
   "cell_type": "markdown",
   "metadata": {},
   "source": [
    "### Initialise State"
   ]
  },
  {
   "cell_type": "code",
   "execution_count": 132,
   "metadata": {},
   "outputs": [],
   "source": [
    "costs = []"
   ]
  },
  {
   "cell_type": "code",
   "execution_count": 133,
   "metadata": {
    "scrolled": true
   },
   "outputs": [],
   "source": [
    "# Randomly fill with remaining values from each 3x3 square\n",
    "solution = problem.copy()\n",
    "for block in range(9):\n",
    "    indices = block_indices(block)\n",
    "    block = problem[indices]\n",
    "    zeros = [i for i in indices if problem[i] == 0]\n",
    "    to_fill = [i for i in range(1, 10) if i not in block]\n",
    "    random.shuffle(to_fill)\n",
    "    for index, value in zip(zeros, to_fill):\n",
    "        solution[index] = value"
   ]
  },
  {
   "cell_type": "code",
   "execution_count": 134,
   "metadata": {},
   "outputs": [
    {
     "name": "stdout",
     "output_type": "stream",
     "text": [
      "------+-------+------\n",
      "\u001b[32m1 \u001b[0m\u001b[31m3 \u001b[0m\u001b[31m6 \u001b[0m| \u001b[31m5 \u001b[0m\u001b[31m1 \u001b[0m\u001b[32m6 \u001b[0m| \u001b[32m3 \u001b[0m2 \u001b[32m8 \u001b[0m\n",
      "\u001b[31m9 \u001b[0m\u001b[31m4 \u001b[0m\u001b[32m2 \u001b[0m| \u001b[32m3 \u001b[0m\u001b[31m4 \u001b[0m\u001b[31m2 \u001b[0m| \u001b[31m5 \u001b[0m\u001b[32m9 \u001b[0m\u001b[31m4 \u001b[0m\n",
      "\u001b[31m7 \u001b[0m\u001b[31m5 \u001b[0m\u001b[31m8 \u001b[0m| \u001b[31m8 \u001b[0m9 \u001b[31m7 \u001b[0m| \u001b[32m7 \u001b[0m\u001b[32m1 \u001b[0m\u001b[32m6 \u001b[0m\n",
      "------+-------+------\n",
      "\u001b[32m7 \u001b[0m1 \u001b[32m8 \u001b[0m| \u001b[32m9 \u001b[0m\u001b[32m4 \u001b[0m\u001b[31m7 \u001b[0m| \u001b[31m5 \u001b[0m6 \u001b[32m2 \u001b[0m\n",
      "\u001b[31m6 \u001b[0m\u001b[31m3 \u001b[0m\u001b[32m4 \u001b[0m| \u001b[31m6 \u001b[0m\u001b[31m8 \u001b[0m\u001b[31m3 \u001b[0m| \u001b[32m9 \u001b[0m\u001b[31m8 \u001b[0m7 \n",
      "\u001b[32m9 \u001b[0m\u001b[31m5 \u001b[0m\u001b[31m2 \u001b[0m| \u001b[31m1 \u001b[0m\u001b[32m2 \u001b[0m\u001b[32m5 \u001b[0m| \u001b[32m1 \u001b[0m3 \u001b[32m4 \u001b[0m\n",
      "------+-------+------\n",
      "\u001b[32m6 \u001b[0m\u001b[32m2 \u001b[0m\u001b[32m9 \u001b[0m| \u001b[31m9 \u001b[0m\u001b[31m8 \u001b[0m\u001b[31m3 \u001b[0m| 4 \u001b[31m8 \u001b[0m\u001b[31m9 \u001b[0m\n",
      "\u001b[31m1 \u001b[0m\u001b[32m4 \u001b[0m\u001b[31m8 \u001b[0m| \u001b[31m5 \u001b[0m\u001b[31m1 \u001b[0m\u001b[32m7 \u001b[0m| \u001b[32m6 \u001b[0m\u001b[31m7 \u001b[0m\u001b[31m5 \u001b[0m\n",
      "\u001b[32m5 \u001b[0m\u001b[31m3 \u001b[0m\u001b[32m7 \u001b[0m| \u001b[32m6 \u001b[0m\u001b[31m2 \u001b[0m4 | \u001b[31m2 \u001b[0m\u001b[31m1 \u001b[0m\u001b[32m3 \u001b[0m\n",
      "------+-------+------\n"
     ]
    }
   ],
   "source": [
    "print_sudoku(solution)"
   ]
  },
  {
   "cell_type": "markdown",
   "metadata": {},
   "source": [
    "### Setup Cost Function"
   ]
  },
  {
   "cell_type": "code",
   "execution_count": 135,
   "metadata": {},
   "outputs": [],
   "source": [
    "def cost(sudoku):\n",
    "    cost = 0\n",
    "    for i in range(9):\n",
    "        cost += 9 - len(set(sudoku[get_index(i, j)] for j in range(9)))\n",
    "        cost += 9 - len(set(sudoku[get_index(j, i)] for j in range(9)))\n",
    "    return cost"
   ]
  },
  {
   "cell_type": "markdown",
   "metadata": {},
   "source": [
    "### Process Parameters"
   ]
  },
  {
   "cell_type": "code",
   "execution_count": 136,
   "metadata": {},
   "outputs": [],
   "source": [
    "# Number of iterations per temperature\n",
    "iterations = sum(fixed)\n",
    "# Initial temperature\n",
    "temp = statistics.pstdev(cost(random_solution(problem))\n",
    "                         for n in range(1000))\n",
    "# Temperature decrease factor\n",
    "df = 1 - 10e-5\n",
    "# Number of iterations without an improvement before raising temperature\n",
    "patience = 2000"
   ]
  },
  {
   "cell_type": "markdown",
   "metadata": {},
   "source": [
    "## Simulate"
   ]
  },
  {
   "cell_type": "code",
   "execution_count": 137,
   "metadata": {},
   "outputs": [
    {
     "name": "stdout",
     "output_type": "stream",
     "text": [
      "------+-------+------\n",
      "\u001b[32m1 \u001b[0m7 5 | 4 9 \u001b[32m6 \u001b[0m| \u001b[32m3 \u001b[0m2 \u001b[32m8 \u001b[0m\n",
      "8 6 \u001b[32m2 \u001b[0m| \u001b[32m3 \u001b[0m7 1 | 4 \u001b[32m9 \u001b[0m5 \n",
      "4 9 3 | 8 5 2 | \u001b[32m7 \u001b[0m\u001b[32m1 \u001b[0m\u001b[32m6 \u001b[0m\n",
      "------+-------+------\n",
      "\u001b[32m7 \u001b[0m1 \u001b[32m8 \u001b[0m| \u001b[32m9 \u001b[0m\u001b[32m4 \u001b[0m3 | 5 6 \u001b[32m2 \u001b[0m\n",
      "2 5 \u001b[32m4 \u001b[0m| 1 6 8 | \u001b[32m9 \u001b[0m3 7 \n",
      "\u001b[32m9 \u001b[0m3 6 | 7 \u001b[32m2 \u001b[0m\u001b[32m5 \u001b[0m| \u001b[32m1 \u001b[0m8 \u001b[32m4 \u001b[0m\n",
      "------+-------+------\n",
      "\u001b[32m6 \u001b[0m\u001b[32m2 \u001b[0m\u001b[32m9 \u001b[0m| 5 3 4 | 8 7 1 \n",
      "3 \u001b[32m4 \u001b[0m1 | 2 8 \u001b[32m7 \u001b[0m| \u001b[32m6 \u001b[0m5 9 \n",
      "\u001b[32m5 \u001b[0m8 \u001b[32m7 \u001b[0m| \u001b[32m6 \u001b[0m1 9 | 2 4 \u001b[32m3 \u001b[0m\n",
      "------+-------+------\n",
      "\n",
      "   ~~~ SOLVED! ~~~   \n"
     ]
    }
   ],
   "source": [
    "# Setup\n",
    "random.seed(253)\n",
    "found_solution = False\n",
    "curr_cost = cost(solution)\n",
    "no_improvement_count = 0\n",
    "it = 0\n",
    "\n",
    "while not found_solution:\n",
    "    \n",
    "    # Randomly switch two cells\n",
    "    proposal = solution.copy()\n",
    "    target = random.choice(range(9))\n",
    "    indices = block_indices(target)\n",
    "    non_fixed = [index for index in indices if not fixed[index]]\n",
    "    i1, i2 = random.choices(non_fixed, k=2)\n",
    "    proposal[i1], proposal[i2] = proposal[i2], proposal[i1]\n",
    "    prop_cost = cost(proposal)\n",
    "\n",
    "    # Adjust temperature\n",
    "    temp *= df\n",
    "    if prop_cost >= curr_cost:\n",
    "        no_improvement_count += 1\n",
    "    else:\n",
    "        no_improvement_count = 0\n",
    "    if no_improvement_count > patience:\n",
    "        temp += 2\n",
    "    \n",
    "    # Probability of accepting\n",
    "    p = math.exp(-(prop_cost - curr_cost) / temp)\n",
    "    if random.random() < p or prop_cost == 0:\n",
    "        solution = proposal.copy()\n",
    "        curr_cost = prop_cost\n",
    "    \n",
    "    # Check for solution\n",
    "    if curr_cost == 0:\n",
    "        found_solution = True\n",
    "    \n",
    "    # Print sudoku every 1000 iterations\n",
    "    if it % 1000 == 0:\n",
    "        clear_output(wait=True)\n",
    "        print(f\"Temp: {temp:.02f} | Cost: {curr_cost}\")\n",
    "        print_sudoku(solution)\n",
    "    it += 1\n",
    "clear_output(wait=True)\n",
    "print_sudoku(solution)\n",
    "print(\"\\n\", \"~~~ SOLVED! ~~~\".center(20))"
   ]
  }
 ],
 "metadata": {
  "kernelspec": {
   "display_name": "General",
   "language": "python",
   "name": "general"
  },
  "language_info": {
   "codemirror_mode": {
    "name": "ipython",
    "version": 3
   },
   "file_extension": ".py",
   "mimetype": "text/x-python",
   "name": "python",
   "nbconvert_exporter": "python",
   "pygments_lexer": "ipython3",
   "version": "3.8.3"
  }
 },
 "nbformat": 4,
 "nbformat_minor": 4
}
